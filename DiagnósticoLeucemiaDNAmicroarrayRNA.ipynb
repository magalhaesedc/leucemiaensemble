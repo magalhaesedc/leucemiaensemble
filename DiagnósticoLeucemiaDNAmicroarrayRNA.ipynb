{
  "nbformat": 4,
  "nbformat_minor": 0,
  "metadata": {
    "colab": {
      "name": "DiagnósticoLeucemiaDNAmicroarrayRNA.ipynb",
      "provenance": [],
      "collapsed_sections": []
    },
    "kernelspec": {
      "name": "python3",
      "display_name": "Python 3"
    },
    "language_info": {
      "name": "python"
    }
  },
  "cells": [
    {
      "cell_type": "markdown",
      "metadata": {
        "id": "d0URpRwZFo2O"
      },
      "source": [
        "**Importando as Bibliotecas**"
      ]
    },
    {
      "cell_type": "code",
      "metadata": {
        "id": "5A9XbAqx9s9K"
      },
      "source": [
        "import numpy as np\n",
        "np.random.seed(0)\n",
        "from tensorflow.random import set_seed\n",
        "set_seed(0)\n",
        "\n",
        "import pandas as pd\n",
        "from tensorflow import keras\n",
        "from sklearn.preprocessing import StandardScaler\n",
        "from sklearn.decomposition import PCA\n",
        "from tensorflow.keras import layers\n",
        "from sklearn.metrics import accuracy_score, confusion_matrix\n",
        "import matplotlib.pyplot as plt\n",
        "import seaborn as sns\n",
        "from mpl_toolkits.mplot3d import Axes3D"
      ],
      "execution_count": null,
      "outputs": []
    },
    {
      "cell_type": "markdown",
      "metadata": {
        "id": "GY-C3XAEFmxd"
      },
      "source": [
        "**Carregando os Dados** (o arquivo \"actual\" contém todos os 72 pacientes do estudo e seus rótulos"
      ]
    },
    {
      "cell_type": "code",
      "metadata": {
        "id": "O6URqsCkEkhe"
      },
      "source": [
        "from google.colab import files\n",
        "uploaded = files.upload ()"
      ],
      "execution_count": null,
      "outputs": []
    },
    {
      "cell_type": "code",
      "metadata": {
        "colab": {
          "base_uri": "https://localhost:8080/",
          "height": 204
        },
        "id": "ljttEjaSEwtP",
        "outputId": "51cedc53-ea66-4a4a-c028-7707efa4c34f"
      },
      "source": [
        "actual_df = pd.read_csv('actual.csv')\n",
        "actual_df.head()"
      ],
      "execution_count": null,
      "outputs": [
        {
          "output_type": "execute_result",
          "data": {
            "text/html": [
              "<div>\n",
              "<style scoped>\n",
              "    .dataframe tbody tr th:only-of-type {\n",
              "        vertical-align: middle;\n",
              "    }\n",
              "\n",
              "    .dataframe tbody tr th {\n",
              "        vertical-align: top;\n",
              "    }\n",
              "\n",
              "    .dataframe thead th {\n",
              "        text-align: right;\n",
              "    }\n",
              "</style>\n",
              "<table border=\"1\" class=\"dataframe\">\n",
              "  <thead>\n",
              "    <tr style=\"text-align: right;\">\n",
              "      <th></th>\n",
              "      <th>patient</th>\n",
              "      <th>cancer</th>\n",
              "    </tr>\n",
              "  </thead>\n",
              "  <tbody>\n",
              "    <tr>\n",
              "      <th>0</th>\n",
              "      <td>1</td>\n",
              "      <td>ALL</td>\n",
              "    </tr>\n",
              "    <tr>\n",
              "      <th>1</th>\n",
              "      <td>2</td>\n",
              "      <td>ALL</td>\n",
              "    </tr>\n",
              "    <tr>\n",
              "      <th>2</th>\n",
              "      <td>3</td>\n",
              "      <td>ALL</td>\n",
              "    </tr>\n",
              "    <tr>\n",
              "      <th>3</th>\n",
              "      <td>4</td>\n",
              "      <td>ALL</td>\n",
              "    </tr>\n",
              "    <tr>\n",
              "      <th>4</th>\n",
              "      <td>5</td>\n",
              "      <td>ALL</td>\n",
              "    </tr>\n",
              "  </tbody>\n",
              "</table>\n",
              "</div>"
            ],
            "text/plain": [
              "   patient cancer\n",
              "0        1    ALL\n",
              "1        2    ALL\n",
              "2        3    ALL\n",
              "3        4    ALL\n",
              "4        5    ALL"
            ]
          },
          "metadata": {
            "tags": []
          },
          "execution_count": 11
        }
      ]
    },
    {
      "cell_type": "code",
      "metadata": {
        "colab": {
          "base_uri": "https://localhost:8080/"
        },
        "id": "6qHKXHo8FJ2z",
        "outputId": "de49f3f5-87ff-4de2-aa11-de8b49f855c9"
      },
      "source": [
        "actual_df['cancer'].value_counts()"
      ],
      "execution_count": null,
      "outputs": [
        {
          "output_type": "execute_result",
          "data": {
            "text/plain": [
              "ALL    47\n",
              "AML    25\n",
              "Name: cancer, dtype: int64"
            ]
          },
          "metadata": {
            "tags": []
          },
          "execution_count": 12
        }
      ]
    },
    {
      "cell_type": "code",
      "metadata": {
        "colab": {
          "base_uri": "https://localhost:8080/"
        },
        "id": "gMaoq2_6FRHy",
        "outputId": "b217e67c-12f8-425b-cbb0-3f8ebf92e535"
      },
      "source": [
        "actual_df.shape"
      ],
      "execution_count": null,
      "outputs": [
        {
          "output_type": "execute_result",
          "data": {
            "text/plain": [
              "(72, 2)"
            ]
          },
          "metadata": {
            "tags": []
          },
          "execution_count": 13
        }
      ]
    },
    {
      "cell_type": "markdown",
      "metadata": {
        "id": "g0tR20KPHEiX"
      },
      "source": [
        "**Transformando os rótulos** (ALL e AML) para numérico '0' e '1'."
      ]
    },
    {
      "cell_type": "code",
      "metadata": {
        "id": "Z_T_iGcfFTG4"
      },
      "source": [
        "y = actual_df.replace({'ALL':0, 'AML':1})\n",
        "y = y.set_index('patient')\n",
        "labels = ['ALL', 'AML']"
      ],
      "execution_count": null,
      "outputs": []
    },
    {
      "cell_type": "markdown",
      "metadata": {
        "id": "49BAcaBgFl3B"
      },
      "source": [
        "**Carregando os conjuntos de treinamento e de teste**"
      ]
    },
    {
      "cell_type": "code",
      "metadata": {
        "colab": {
          "resources": {
            "http://localhost:8080/nbextensions/google.colab/files.js": {
              "data": "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",
              "ok": true,
              "headers": [
                [
                  "content-type",
                  "application/javascript"
                ]
              ],
              "status": 200,
              "status_text": ""
            }
          },
          "base_uri": "https://localhost:8080/",
          "height": 106
        },
        "id": "-unL5TE7Haei",
        "outputId": "49a10b02-72fa-4b01-94ed-b66d800f12ce"
      },
      "source": [
        "from google.colab import files\n",
        "uploaded = files.upload ()"
      ],
      "execution_count": null,
      "outputs": [
        {
          "output_type": "display_data",
          "data": {
            "text/html": [
              "\n",
              "     <input type=\"file\" id=\"files-21ccc1c8-9add-41e8-b578-7810d507b0f2\" name=\"files[]\" multiple disabled\n",
              "        style=\"border:none\" />\n",
              "     <output id=\"result-21ccc1c8-9add-41e8-b578-7810d507b0f2\">\n",
              "      Upload widget is only available when the cell has been executed in the\n",
              "      current browser session. Please rerun this cell to enable.\n",
              "      </output>\n",
              "      <script src=\"/nbextensions/google.colab/files.js\"></script> "
            ],
            "text/plain": [
              "<IPython.core.display.HTML object>"
            ]
          },
          "metadata": {
            "tags": []
          }
        },
        {
          "output_type": "stream",
          "text": [
            "Saving data_set_ALL_AML_independent.csv to data_set_ALL_AML_independent.csv\n",
            "Saving data_set_ALL_AML_train.csv to data_set_ALL_AML_train.csv\n"
          ],
          "name": "stdout"
        }
      ]
    },
    {
      "cell_type": "code",
      "metadata": {
        "id": "ABJ3YHa2Lys6"
      },
      "source": [
        "train_df = pd.read_csv('data_set_ALL_AML_train.csv')\n",
        "test_df = pd.read_csv('data_set_ALL_AML_independent.csv')"
      ],
      "execution_count": null,
      "outputs": []
    },
    {
      "cell_type": "code",
      "metadata": {
        "colab": {
          "base_uri": "https://localhost:8080/"
        },
        "id": "fezbUwa1MD2G",
        "outputId": "c0aca91b-adf9-47c7-c1be-d7041bbe79b6"
      },
      "source": [
        "print(\"Shape of Training Data: \", train_df.shape)\n",
        "print(\"Shape of Testing Data: \", test_df.shape)"
      ],
      "execution_count": null,
      "outputs": [
        {
          "output_type": "stream",
          "text": [
            "Shape of Training Data:  (7129, 78)\n",
            "Shape of Testing Data:  (7129, 70)\n"
          ],
          "name": "stdout"
        }
      ]
    },
    {
      "cell_type": "markdown",
      "metadata": {
        "id": "TTpDkI5KML3L"
      },
      "source": [
        "**Mostra o conjunto de treinamento**"
      ]
    },
    {
      "cell_type": "code",
      "metadata": {
        "colab": {
          "base_uri": "https://localhost:8080/",
          "height": 513
        },
        "id": "NIKR6HytMTbL",
        "outputId": "89f0046c-7348-42fc-f019-5530c2b8a8a8"
      },
      "source": [
        "train_df.head()"
      ],
      "execution_count": null,
      "outputs": [
        {
          "output_type": "execute_result",
          "data": {
            "text/html": [
              "<div>\n",
              "<style scoped>\n",
              "    .dataframe tbody tr th:only-of-type {\n",
              "        vertical-align: middle;\n",
              "    }\n",
              "\n",
              "    .dataframe tbody tr th {\n",
              "        vertical-align: top;\n",
              "    }\n",
              "\n",
              "    .dataframe thead th {\n",
              "        text-align: right;\n",
              "    }\n",
              "</style>\n",
              "<table border=\"1\" class=\"dataframe\">\n",
              "  <thead>\n",
              "    <tr style=\"text-align: right;\">\n",
              "      <th></th>\n",
              "      <th>Gene Description</th>\n",
              "      <th>Gene Accession Number</th>\n",
              "      <th>1</th>\n",
              "      <th>call</th>\n",
              "      <th>2</th>\n",
              "      <th>call.1</th>\n",
              "      <th>3</th>\n",
              "      <th>call.2</th>\n",
              "      <th>4</th>\n",
              "      <th>call.3</th>\n",
              "      <th>5</th>\n",
              "      <th>call.4</th>\n",
              "      <th>6</th>\n",
              "      <th>call.5</th>\n",
              "      <th>7</th>\n",
              "      <th>call.6</th>\n",
              "      <th>8</th>\n",
              "      <th>call.7</th>\n",
              "      <th>9</th>\n",
              "      <th>call.8</th>\n",
              "      <th>10</th>\n",
              "      <th>call.9</th>\n",
              "      <th>11</th>\n",
              "      <th>call.10</th>\n",
              "      <th>12</th>\n",
              "      <th>call.11</th>\n",
              "      <th>13</th>\n",
              "      <th>call.12</th>\n",
              "      <th>14</th>\n",
              "      <th>call.13</th>\n",
              "      <th>15</th>\n",
              "      <th>call.14</th>\n",
              "      <th>16</th>\n",
              "      <th>call.15</th>\n",
              "      <th>17</th>\n",
              "      <th>call.16</th>\n",
              "      <th>18</th>\n",
              "      <th>call.17</th>\n",
              "      <th>19</th>\n",
              "      <th>call.18</th>\n",
              "      <th>20</th>\n",
              "      <th>call.19</th>\n",
              "      <th>21</th>\n",
              "      <th>call.20</th>\n",
              "      <th>22</th>\n",
              "      <th>call.21</th>\n",
              "      <th>23</th>\n",
              "      <th>call.22</th>\n",
              "      <th>24</th>\n",
              "      <th>call.23</th>\n",
              "      <th>25</th>\n",
              "      <th>call.24</th>\n",
              "      <th>26</th>\n",
              "      <th>call.25</th>\n",
              "      <th>27</th>\n",
              "      <th>call.26</th>\n",
              "      <th>34</th>\n",
              "      <th>call.27</th>\n",
              "      <th>35</th>\n",
              "      <th>call.28</th>\n",
              "      <th>36</th>\n",
              "      <th>call.29</th>\n",
              "      <th>37</th>\n",
              "      <th>call.30</th>\n",
              "      <th>38</th>\n",
              "      <th>call.31</th>\n",
              "      <th>28</th>\n",
              "      <th>call.32</th>\n",
              "      <th>29</th>\n",
              "      <th>call.33</th>\n",
              "      <th>30</th>\n",
              "      <th>call.34</th>\n",
              "      <th>31</th>\n",
              "      <th>call.35</th>\n",
              "      <th>32</th>\n",
              "      <th>call.36</th>\n",
              "      <th>33</th>\n",
              "      <th>call.37</th>\n",
              "    </tr>\n",
              "  </thead>\n",
              "  <tbody>\n",
              "    <tr>\n",
              "      <th>0</th>\n",
              "      <td>AFFX-BioB-5_at (endogenous control)</td>\n",
              "      <td>AFFX-BioB-5_at</td>\n",
              "      <td>-214</td>\n",
              "      <td>A</td>\n",
              "      <td>-139</td>\n",
              "      <td>A</td>\n",
              "      <td>-76</td>\n",
              "      <td>A</td>\n",
              "      <td>-135</td>\n",
              "      <td>A</td>\n",
              "      <td>-106</td>\n",
              "      <td>A</td>\n",
              "      <td>-138</td>\n",
              "      <td>A</td>\n",
              "      <td>-72</td>\n",
              "      <td>A</td>\n",
              "      <td>-413</td>\n",
              "      <td>A</td>\n",
              "      <td>5</td>\n",
              "      <td>A</td>\n",
              "      <td>-88</td>\n",
              "      <td>A</td>\n",
              "      <td>-165</td>\n",
              "      <td>A</td>\n",
              "      <td>-67</td>\n",
              "      <td>A</td>\n",
              "      <td>-92</td>\n",
              "      <td>A</td>\n",
              "      <td>-113</td>\n",
              "      <td>A</td>\n",
              "      <td>-107</td>\n",
              "      <td>A</td>\n",
              "      <td>-117</td>\n",
              "      <td>A</td>\n",
              "      <td>-476</td>\n",
              "      <td>A</td>\n",
              "      <td>-81</td>\n",
              "      <td>A</td>\n",
              "      <td>-44</td>\n",
              "      <td>A</td>\n",
              "      <td>17</td>\n",
              "      <td>A</td>\n",
              "      <td>-144</td>\n",
              "      <td>A</td>\n",
              "      <td>-247</td>\n",
              "      <td>A</td>\n",
              "      <td>-74</td>\n",
              "      <td>A</td>\n",
              "      <td>-120</td>\n",
              "      <td>A</td>\n",
              "      <td>-81</td>\n",
              "      <td>A</td>\n",
              "      <td>-112</td>\n",
              "      <td>A</td>\n",
              "      <td>-273</td>\n",
              "      <td>A</td>\n",
              "      <td>-20</td>\n",
              "      <td>A</td>\n",
              "      <td>7</td>\n",
              "      <td>A</td>\n",
              "      <td>-213</td>\n",
              "      <td>A</td>\n",
              "      <td>-25</td>\n",
              "      <td>A</td>\n",
              "      <td>-72</td>\n",
              "      <td>A</td>\n",
              "      <td>-4</td>\n",
              "      <td>A</td>\n",
              "      <td>15</td>\n",
              "      <td>A</td>\n",
              "      <td>-318</td>\n",
              "      <td>A</td>\n",
              "      <td>-32</td>\n",
              "      <td>A</td>\n",
              "      <td>-124</td>\n",
              "      <td>A</td>\n",
              "      <td>-135</td>\n",
              "      <td>A</td>\n",
              "    </tr>\n",
              "    <tr>\n",
              "      <th>1</th>\n",
              "      <td>AFFX-BioB-M_at (endogenous control)</td>\n",
              "      <td>AFFX-BioB-M_at</td>\n",
              "      <td>-153</td>\n",
              "      <td>A</td>\n",
              "      <td>-73</td>\n",
              "      <td>A</td>\n",
              "      <td>-49</td>\n",
              "      <td>A</td>\n",
              "      <td>-114</td>\n",
              "      <td>A</td>\n",
              "      <td>-125</td>\n",
              "      <td>A</td>\n",
              "      <td>-85</td>\n",
              "      <td>A</td>\n",
              "      <td>-144</td>\n",
              "      <td>A</td>\n",
              "      <td>-260</td>\n",
              "      <td>A</td>\n",
              "      <td>-127</td>\n",
              "      <td>A</td>\n",
              "      <td>-105</td>\n",
              "      <td>A</td>\n",
              "      <td>-155</td>\n",
              "      <td>A</td>\n",
              "      <td>-93</td>\n",
              "      <td>A</td>\n",
              "      <td>-119</td>\n",
              "      <td>A</td>\n",
              "      <td>-147</td>\n",
              "      <td>A</td>\n",
              "      <td>-72</td>\n",
              "      <td>A</td>\n",
              "      <td>-219</td>\n",
              "      <td>A</td>\n",
              "      <td>-213</td>\n",
              "      <td>A</td>\n",
              "      <td>-150</td>\n",
              "      <td>A</td>\n",
              "      <td>-51</td>\n",
              "      <td>A</td>\n",
              "      <td>-229</td>\n",
              "      <td>A</td>\n",
              "      <td>-199</td>\n",
              "      <td>A</td>\n",
              "      <td>-90</td>\n",
              "      <td>A</td>\n",
              "      <td>-321</td>\n",
              "      <td>A</td>\n",
              "      <td>-263</td>\n",
              "      <td>A</td>\n",
              "      <td>-150</td>\n",
              "      <td>A</td>\n",
              "      <td>-233</td>\n",
              "      <td>A</td>\n",
              "      <td>-327</td>\n",
              "      <td>A</td>\n",
              "      <td>-207</td>\n",
              "      <td>A</td>\n",
              "      <td>-100</td>\n",
              "      <td>A</td>\n",
              "      <td>-252</td>\n",
              "      <td>A</td>\n",
              "      <td>-20</td>\n",
              "      <td>A</td>\n",
              "      <td>-139</td>\n",
              "      <td>A</td>\n",
              "      <td>-116</td>\n",
              "      <td>A</td>\n",
              "      <td>-114</td>\n",
              "      <td>A</td>\n",
              "      <td>-192</td>\n",
              "      <td>A</td>\n",
              "      <td>-49</td>\n",
              "      <td>A</td>\n",
              "      <td>-79</td>\n",
              "      <td>A</td>\n",
              "      <td>-186</td>\n",
              "      <td>A</td>\n",
              "    </tr>\n",
              "    <tr>\n",
              "      <th>2</th>\n",
              "      <td>AFFX-BioB-3_at (endogenous control)</td>\n",
              "      <td>AFFX-BioB-3_at</td>\n",
              "      <td>-58</td>\n",
              "      <td>A</td>\n",
              "      <td>-1</td>\n",
              "      <td>A</td>\n",
              "      <td>-307</td>\n",
              "      <td>A</td>\n",
              "      <td>265</td>\n",
              "      <td>A</td>\n",
              "      <td>-76</td>\n",
              "      <td>A</td>\n",
              "      <td>215</td>\n",
              "      <td>A</td>\n",
              "      <td>238</td>\n",
              "      <td>A</td>\n",
              "      <td>7</td>\n",
              "      <td>A</td>\n",
              "      <td>106</td>\n",
              "      <td>A</td>\n",
              "      <td>42</td>\n",
              "      <td>A</td>\n",
              "      <td>-71</td>\n",
              "      <td>A</td>\n",
              "      <td>84</td>\n",
              "      <td>A</td>\n",
              "      <td>-31</td>\n",
              "      <td>A</td>\n",
              "      <td>-118</td>\n",
              "      <td>A</td>\n",
              "      <td>-126</td>\n",
              "      <td>A</td>\n",
              "      <td>-50</td>\n",
              "      <td>A</td>\n",
              "      <td>-18</td>\n",
              "      <td>A</td>\n",
              "      <td>-119</td>\n",
              "      <td>A</td>\n",
              "      <td>100</td>\n",
              "      <td>A</td>\n",
              "      <td>79</td>\n",
              "      <td>A</td>\n",
              "      <td>-157</td>\n",
              "      <td>A</td>\n",
              "      <td>-168</td>\n",
              "      <td>A</td>\n",
              "      <td>-11</td>\n",
              "      <td>A</td>\n",
              "      <td>-114</td>\n",
              "      <td>A</td>\n",
              "      <td>-85</td>\n",
              "      <td>A</td>\n",
              "      <td>-78</td>\n",
              "      <td>A</td>\n",
              "      <td>-76</td>\n",
              "      <td>A</td>\n",
              "      <td>-50</td>\n",
              "      <td>A</td>\n",
              "      <td>-57</td>\n",
              "      <td>A</td>\n",
              "      <td>136</td>\n",
              "      <td>A</td>\n",
              "      <td>124</td>\n",
              "      <td>A</td>\n",
              "      <td>-1</td>\n",
              "      <td>A</td>\n",
              "      <td>-125</td>\n",
              "      <td>A</td>\n",
              "      <td>2</td>\n",
              "      <td>A</td>\n",
              "      <td>-95</td>\n",
              "      <td>A</td>\n",
              "      <td>49</td>\n",
              "      <td>A</td>\n",
              "      <td>-37</td>\n",
              "      <td>A</td>\n",
              "      <td>-70</td>\n",
              "      <td>A</td>\n",
              "    </tr>\n",
              "    <tr>\n",
              "      <th>3</th>\n",
              "      <td>AFFX-BioC-5_at (endogenous control)</td>\n",
              "      <td>AFFX-BioC-5_at</td>\n",
              "      <td>88</td>\n",
              "      <td>A</td>\n",
              "      <td>283</td>\n",
              "      <td>A</td>\n",
              "      <td>309</td>\n",
              "      <td>A</td>\n",
              "      <td>12</td>\n",
              "      <td>A</td>\n",
              "      <td>168</td>\n",
              "      <td>A</td>\n",
              "      <td>71</td>\n",
              "      <td>A</td>\n",
              "      <td>55</td>\n",
              "      <td>A</td>\n",
              "      <td>-2</td>\n",
              "      <td>A</td>\n",
              "      <td>268</td>\n",
              "      <td>A</td>\n",
              "      <td>219</td>\n",
              "      <td>M</td>\n",
              "      <td>82</td>\n",
              "      <td>A</td>\n",
              "      <td>25</td>\n",
              "      <td>A</td>\n",
              "      <td>173</td>\n",
              "      <td>A</td>\n",
              "      <td>243</td>\n",
              "      <td>M</td>\n",
              "      <td>149</td>\n",
              "      <td>A</td>\n",
              "      <td>257</td>\n",
              "      <td>A</td>\n",
              "      <td>301</td>\n",
              "      <td>A</td>\n",
              "      <td>78</td>\n",
              "      <td>A</td>\n",
              "      <td>207</td>\n",
              "      <td>A</td>\n",
              "      <td>218</td>\n",
              "      <td>A</td>\n",
              "      <td>132</td>\n",
              "      <td>A</td>\n",
              "      <td>-24</td>\n",
              "      <td>A</td>\n",
              "      <td>-36</td>\n",
              "      <td>A</td>\n",
              "      <td>255</td>\n",
              "      <td>A</td>\n",
              "      <td>316</td>\n",
              "      <td>A</td>\n",
              "      <td>54</td>\n",
              "      <td>A</td>\n",
              "      <td>81</td>\n",
              "      <td>A</td>\n",
              "      <td>101</td>\n",
              "      <td>A</td>\n",
              "      <td>132</td>\n",
              "      <td>A</td>\n",
              "      <td>318</td>\n",
              "      <td>A</td>\n",
              "      <td>325</td>\n",
              "      <td>A</td>\n",
              "      <td>392</td>\n",
              "      <td>P</td>\n",
              "      <td>241</td>\n",
              "      <td>A</td>\n",
              "      <td>193</td>\n",
              "      <td>A</td>\n",
              "      <td>312</td>\n",
              "      <td>A</td>\n",
              "      <td>230</td>\n",
              "      <td>P</td>\n",
              "      <td>330</td>\n",
              "      <td>A</td>\n",
              "      <td>337</td>\n",
              "      <td>A</td>\n",
              "    </tr>\n",
              "    <tr>\n",
              "      <th>4</th>\n",
              "      <td>AFFX-BioC-3_at (endogenous control)</td>\n",
              "      <td>AFFX-BioC-3_at</td>\n",
              "      <td>-295</td>\n",
              "      <td>A</td>\n",
              "      <td>-264</td>\n",
              "      <td>A</td>\n",
              "      <td>-376</td>\n",
              "      <td>A</td>\n",
              "      <td>-419</td>\n",
              "      <td>A</td>\n",
              "      <td>-230</td>\n",
              "      <td>A</td>\n",
              "      <td>-272</td>\n",
              "      <td>A</td>\n",
              "      <td>-399</td>\n",
              "      <td>A</td>\n",
              "      <td>-541</td>\n",
              "      <td>A</td>\n",
              "      <td>-210</td>\n",
              "      <td>A</td>\n",
              "      <td>-178</td>\n",
              "      <td>A</td>\n",
              "      <td>-163</td>\n",
              "      <td>A</td>\n",
              "      <td>-179</td>\n",
              "      <td>A</td>\n",
              "      <td>-233</td>\n",
              "      <td>A</td>\n",
              "      <td>-127</td>\n",
              "      <td>A</td>\n",
              "      <td>-205</td>\n",
              "      <td>A</td>\n",
              "      <td>-218</td>\n",
              "      <td>A</td>\n",
              "      <td>-403</td>\n",
              "      <td>A</td>\n",
              "      <td>-152</td>\n",
              "      <td>A</td>\n",
              "      <td>-146</td>\n",
              "      <td>A</td>\n",
              "      <td>-262</td>\n",
              "      <td>A</td>\n",
              "      <td>-151</td>\n",
              "      <td>A</td>\n",
              "      <td>-308</td>\n",
              "      <td>A</td>\n",
              "      <td>-317</td>\n",
              "      <td>A</td>\n",
              "      <td>-342</td>\n",
              "      <td>A</td>\n",
              "      <td>-418</td>\n",
              "      <td>A</td>\n",
              "      <td>-244</td>\n",
              "      <td>A</td>\n",
              "      <td>-439</td>\n",
              "      <td>A</td>\n",
              "      <td>-369</td>\n",
              "      <td>A</td>\n",
              "      <td>-377</td>\n",
              "      <td>A</td>\n",
              "      <td>-209</td>\n",
              "      <td>A</td>\n",
              "      <td>-396</td>\n",
              "      <td>A</td>\n",
              "      <td>-324</td>\n",
              "      <td>A</td>\n",
              "      <td>-191</td>\n",
              "      <td>A</td>\n",
              "      <td>-51</td>\n",
              "      <td>A</td>\n",
              "      <td>-139</td>\n",
              "      <td>A</td>\n",
              "      <td>-367</td>\n",
              "      <td>A</td>\n",
              "      <td>-188</td>\n",
              "      <td>A</td>\n",
              "      <td>-407</td>\n",
              "      <td>A</td>\n",
              "    </tr>\n",
              "  </tbody>\n",
              "</table>\n",
              "</div>"
            ],
            "text/plain": [
              "                      Gene Description Gene Accession Number  ...   33 call.37\n",
              "0  AFFX-BioB-5_at (endogenous control)        AFFX-BioB-5_at  ... -135       A\n",
              "1  AFFX-BioB-M_at (endogenous control)        AFFX-BioB-M_at  ... -186       A\n",
              "2  AFFX-BioB-3_at (endogenous control)        AFFX-BioB-3_at  ...  -70       A\n",
              "3  AFFX-BioC-5_at (endogenous control)        AFFX-BioC-5_at  ...  337       A\n",
              "4  AFFX-BioC-3_at (endogenous control)        AFFX-BioC-3_at  ... -407       A\n",
              "\n",
              "[5 rows x 78 columns]"
            ]
          },
          "metadata": {
            "tags": []
          },
          "execution_count": 18
        }
      ]
    },
    {
      "cell_type": "markdown",
      "metadata": {
        "id": "h4duWrafMY7U"
      },
      "source": [
        "A descrição dos 7129 genes são mostradas nas linhas e os valores para cada paciente nas colunas. Há a necessidade de um pequeno ajuste."
      ]
    },
    {
      "cell_type": "markdown",
      "metadata": {
        "id": "uAwZzarOM4Fb"
      },
      "source": [
        "**Removendo as colunas \"call\" dos conjuntos de treinamento e teste**"
      ]
    },
    {
      "cell_type": "code",
      "metadata": {
        "id": "5BmUhBT7NFL_"
      },
      "source": [
        "train_to_keep=[col for col in train_df.columns if \"call\" not in col]\n",
        "test_to_keep=[col for col in test_df.columns if \"call\" not in col]\n",
        "\n",
        "X_train = train_df[train_to_keep]\n",
        "X_test = test_df[test_to_keep]"
      ],
      "execution_count": null,
      "outputs": []
    },
    {
      "cell_type": "markdown",
      "metadata": {
        "id": "-04CivSbNLae"
      },
      "source": [
        "\n",
        "**Agora podemos simplesmente transpor os dataframes de treinamento e teste para que os genes se tornem colunas (características) e os pacientes se tornem linhas.**"
      ]
    },
    {
      "cell_type": "code",
      "metadata": {
        "id": "j6fiKfZENV6g"
      },
      "source": [
        "X_train = X_train.T\n",
        "X_test = X_test.T"
      ],
      "execution_count": null,
      "outputs": []
    },
    {
      "cell_type": "markdown",
      "metadata": {
        "id": "hmMROAv8Nbyh"
      },
      "source": [
        "**As primeiras 2 linhas são duplicadas para que possamos remover 'Descrição do gene' e definir 'Número de acesso do gene' como cabeçalhos de coluna.**"
      ]
    },
    {
      "cell_type": "code",
      "metadata": {
        "id": "mMUBPAQ8Nexz"
      },
      "source": [
        "X_train.columns = X_train.iloc[1]\n",
        "X_test.columns = X_test.iloc[1]\n",
        "\n",
        "X_train = X_train.drop(['Gene Description', 'Gene Accession Number'])\n",
        "X_test = X_test.drop(['Gene Description', 'Gene Accession Number'])"
      ],
      "execution_count": null,
      "outputs": []
    },
    {
      "cell_type": "markdown",
      "metadata": {
        "id": "yXn7uHoNNnbE"
      },
      "source": [
        "**Os índices de linha de treinamento e teste não estão em ordem numérica, então é importante que os reordenemos, para que os rótulos se alinhem com os dados correspondentes.**"
      ]
    },
    {
      "cell_type": "code",
      "metadata": {
        "id": "TNeargH5Nxfb"
      },
      "source": [
        "X_train.index = X_train.index.astype(int)\n",
        "X_train.sort_index(inplace=True)\n",
        "\n",
        "X_test.index = X_test.index.astype(int)\n",
        "X_test.sort_index(inplace=True)"
      ],
      "execution_count": null,
      "outputs": []
    },
    {
      "cell_type": "markdown",
      "metadata": {
        "id": "23HuU0xpN5BJ"
      },
      "source": [
        "**No final, nossos dados vão ficar assim:**"
      ]
    },
    {
      "cell_type": "code",
      "metadata": {
        "colab": {
          "base_uri": "https://localhost:8080/"
        },
        "id": "K664N-lfN-o9",
        "outputId": "7d629a59-e3d4-4a7d-9f93-7297c387e2fa"
      },
      "source": [
        "print(\"Shape of Training data:\\t\", X_train.shape)\n",
        "print(\"Shape of Testing Data:\\t\", X_test.shape)"
      ],
      "execution_count": null,
      "outputs": [
        {
          "output_type": "stream",
          "text": [
            "Shape of Training data:\t (38, 7129)\n",
            "Shape of Testing Data:\t (34, 7129)\n"
          ],
          "name": "stdout"
        }
      ]
    },
    {
      "cell_type": "code",
      "metadata": {
        "colab": {
          "base_uri": "https://localhost:8080/",
          "height": 287
        },
        "id": "bURffsLXODFq",
        "outputId": "91dda3e5-d1a8-4155-d4ca-122760f08a29"
      },
      "source": [
        "X_train.head()"
      ],
      "execution_count": null,
      "outputs": [
        {
          "output_type": "execute_result",
          "data": {
            "text/html": [
              "<div>\n",
              "<style scoped>\n",
              "    .dataframe tbody tr th:only-of-type {\n",
              "        vertical-align: middle;\n",
              "    }\n",
              "\n",
              "    .dataframe tbody tr th {\n",
              "        vertical-align: top;\n",
              "    }\n",
              "\n",
              "    .dataframe thead th {\n",
              "        text-align: right;\n",
              "    }\n",
              "</style>\n",
              "<table border=\"1\" class=\"dataframe\">\n",
              "  <thead>\n",
              "    <tr style=\"text-align: right;\">\n",
              "      <th>Gene Accession Number</th>\n",
              "      <th>AFFX-BioB-5_at</th>\n",
              "      <th>AFFX-BioB-M_at</th>\n",
              "      <th>AFFX-BioB-3_at</th>\n",
              "      <th>AFFX-BioC-5_at</th>\n",
              "      <th>AFFX-BioC-3_at</th>\n",
              "      <th>AFFX-BioDn-5_at</th>\n",
              "      <th>AFFX-BioDn-3_at</th>\n",
              "      <th>AFFX-CreX-5_at</th>\n",
              "      <th>AFFX-CreX-3_at</th>\n",
              "      <th>AFFX-BioB-5_st</th>\n",
              "      <th>AFFX-BioB-M_st</th>\n",
              "      <th>AFFX-BioB-3_st</th>\n",
              "      <th>AFFX-BioC-5_st</th>\n",
              "      <th>AFFX-BioC-3_st</th>\n",
              "      <th>AFFX-BioDn-5_st</th>\n",
              "      <th>AFFX-BioDn-3_st</th>\n",
              "      <th>AFFX-CreX-5_st</th>\n",
              "      <th>AFFX-CreX-3_st</th>\n",
              "      <th>hum_alu_at</th>\n",
              "      <th>AFFX-DapX-5_at</th>\n",
              "      <th>AFFX-DapX-M_at</th>\n",
              "      <th>AFFX-DapX-3_at</th>\n",
              "      <th>AFFX-LysX-5_at</th>\n",
              "      <th>AFFX-LysX-M_at</th>\n",
              "      <th>AFFX-LysX-3_at</th>\n",
              "      <th>AFFX-PheX-5_at</th>\n",
              "      <th>AFFX-PheX-M_at</th>\n",
              "      <th>AFFX-PheX-3_at</th>\n",
              "      <th>AFFX-ThrX-5_at</th>\n",
              "      <th>AFFX-ThrX-M_at</th>\n",
              "      <th>AFFX-ThrX-3_at</th>\n",
              "      <th>AFFX-TrpnX-5_at</th>\n",
              "      <th>AFFX-TrpnX-M_at</th>\n",
              "      <th>AFFX-TrpnX-3_at</th>\n",
              "      <th>AFFX-HUMISGF3A/M97935_5_at</th>\n",
              "      <th>AFFX-HUMISGF3A/M97935_MA_at</th>\n",
              "      <th>AFFX-HUMISGF3A/M97935_MB_at</th>\n",
              "      <th>AFFX-HUMISGF3A/M97935_3_at</th>\n",
              "      <th>AFFX-HUMRGE/M10098_5_at</th>\n",
              "      <th>AFFX-HUMRGE/M10098_M_at</th>\n",
              "      <th>...</th>\n",
              "      <th>X53065_f_at</th>\n",
              "      <th>X64177_f_at</th>\n",
              "      <th>X67491_f_at</th>\n",
              "      <th>X71345_f_at</th>\n",
              "      <th>X97444_f_at</th>\n",
              "      <th>Z80780_f_at</th>\n",
              "      <th>X00351_f_at</th>\n",
              "      <th>X01677_f_at</th>\n",
              "      <th>M31667_f_at</th>\n",
              "      <th>L41268_f_at</th>\n",
              "      <th>X99479_f_at</th>\n",
              "      <th>HG658-HT658_f_at</th>\n",
              "      <th>M94880_f_at</th>\n",
              "      <th>S80905_f_at</th>\n",
              "      <th>X03068_f_at</th>\n",
              "      <th>Z34822_f_at</th>\n",
              "      <th>U87593_f_at</th>\n",
              "      <th>U88902_cds1_f_at</th>\n",
              "      <th>AC002076_cds2_at</th>\n",
              "      <th>D64015_at</th>\n",
              "      <th>HG2510-HT2606_at</th>\n",
              "      <th>L10717_at</th>\n",
              "      <th>L34355_at</th>\n",
              "      <th>L78833_cds4_at</th>\n",
              "      <th>M13981_at</th>\n",
              "      <th>M21064_at</th>\n",
              "      <th>M93143_at</th>\n",
              "      <th>S78825_at</th>\n",
              "      <th>U11863_at</th>\n",
              "      <th>U29175_at</th>\n",
              "      <th>U48730_at</th>\n",
              "      <th>U58516_at</th>\n",
              "      <th>U73738_at</th>\n",
              "      <th>X06956_at</th>\n",
              "      <th>X16699_at</th>\n",
              "      <th>X83863_at</th>\n",
              "      <th>Z17240_at</th>\n",
              "      <th>L49218_f_at</th>\n",
              "      <th>M71243_f_at</th>\n",
              "      <th>Z78285_f_at</th>\n",
              "    </tr>\n",
              "  </thead>\n",
              "  <tbody>\n",
              "    <tr>\n",
              "      <th>1</th>\n",
              "      <td>-214</td>\n",
              "      <td>-153</td>\n",
              "      <td>-58</td>\n",
              "      <td>88</td>\n",
              "      <td>-295</td>\n",
              "      <td>-558</td>\n",
              "      <td>199</td>\n",
              "      <td>-176</td>\n",
              "      <td>252</td>\n",
              "      <td>206</td>\n",
              "      <td>-41</td>\n",
              "      <td>-831</td>\n",
              "      <td>-653</td>\n",
              "      <td>-462</td>\n",
              "      <td>75</td>\n",
              "      <td>381</td>\n",
              "      <td>-118</td>\n",
              "      <td>-565</td>\n",
              "      <td>15091</td>\n",
              "      <td>7</td>\n",
              "      <td>311</td>\n",
              "      <td>-231</td>\n",
              "      <td>21</td>\n",
              "      <td>-107</td>\n",
              "      <td>165</td>\n",
              "      <td>-78</td>\n",
              "      <td>-204</td>\n",
              "      <td>29</td>\n",
              "      <td>-61</td>\n",
              "      <td>-105</td>\n",
              "      <td>-366</td>\n",
              "      <td>-41</td>\n",
              "      <td>-346</td>\n",
              "      <td>-297</td>\n",
              "      <td>-109</td>\n",
              "      <td>-13</td>\n",
              "      <td>215</td>\n",
              "      <td>797</td>\n",
              "      <td>14538</td>\n",
              "      <td>9738</td>\n",
              "      <td>...</td>\n",
              "      <td>391</td>\n",
              "      <td>-763</td>\n",
              "      <td>172</td>\n",
              "      <td>149</td>\n",
              "      <td>341</td>\n",
              "      <td>788</td>\n",
              "      <td>21210</td>\n",
              "      <td>13771</td>\n",
              "      <td>598</td>\n",
              "      <td>396</td>\n",
              "      <td>245</td>\n",
              "      <td>14476</td>\n",
              "      <td>10882</td>\n",
              "      <td>701</td>\n",
              "      <td>2762</td>\n",
              "      <td>-325</td>\n",
              "      <td>-67</td>\n",
              "      <td>346</td>\n",
              "      <td>-68</td>\n",
              "      <td>229</td>\n",
              "      <td>-14</td>\n",
              "      <td>108</td>\n",
              "      <td>28</td>\n",
              "      <td>349</td>\n",
              "      <td>61</td>\n",
              "      <td>273</td>\n",
              "      <td>384</td>\n",
              "      <td>-306</td>\n",
              "      <td>-1827</td>\n",
              "      <td>1582</td>\n",
              "      <td>185</td>\n",
              "      <td>511</td>\n",
              "      <td>-125</td>\n",
              "      <td>389</td>\n",
              "      <td>-37</td>\n",
              "      <td>793</td>\n",
              "      <td>329</td>\n",
              "      <td>36</td>\n",
              "      <td>191</td>\n",
              "      <td>-37</td>\n",
              "    </tr>\n",
              "    <tr>\n",
              "      <th>2</th>\n",
              "      <td>-139</td>\n",
              "      <td>-73</td>\n",
              "      <td>-1</td>\n",
              "      <td>283</td>\n",
              "      <td>-264</td>\n",
              "      <td>-400</td>\n",
              "      <td>-330</td>\n",
              "      <td>-168</td>\n",
              "      <td>101</td>\n",
              "      <td>74</td>\n",
              "      <td>19</td>\n",
              "      <td>-743</td>\n",
              "      <td>-239</td>\n",
              "      <td>-83</td>\n",
              "      <td>182</td>\n",
              "      <td>164</td>\n",
              "      <td>-141</td>\n",
              "      <td>-423</td>\n",
              "      <td>11038</td>\n",
              "      <td>37</td>\n",
              "      <td>134</td>\n",
              "      <td>-161</td>\n",
              "      <td>-21</td>\n",
              "      <td>-180</td>\n",
              "      <td>18</td>\n",
              "      <td>-120</td>\n",
              "      <td>-65</td>\n",
              "      <td>97</td>\n",
              "      <td>15</td>\n",
              "      <td>-49</td>\n",
              "      <td>-330</td>\n",
              "      <td>-41</td>\n",
              "      <td>-772</td>\n",
              "      <td>-259</td>\n",
              "      <td>-192</td>\n",
              "      <td>-219</td>\n",
              "      <td>116</td>\n",
              "      <td>433</td>\n",
              "      <td>615</td>\n",
              "      <td>115</td>\n",
              "      <td>...</td>\n",
              "      <td>200</td>\n",
              "      <td>51</td>\n",
              "      <td>154</td>\n",
              "      <td>418</td>\n",
              "      <td>433</td>\n",
              "      <td>736</td>\n",
              "      <td>21059</td>\n",
              "      <td>15097</td>\n",
              "      <td>563</td>\n",
              "      <td>171</td>\n",
              "      <td>-149</td>\n",
              "      <td>13686</td>\n",
              "      <td>11789</td>\n",
              "      <td>76</td>\n",
              "      <td>1567</td>\n",
              "      <td>-191</td>\n",
              "      <td>-88</td>\n",
              "      <td>290</td>\n",
              "      <td>14</td>\n",
              "      <td>194</td>\n",
              "      <td>56</td>\n",
              "      <td>303</td>\n",
              "      <td>-242</td>\n",
              "      <td>214</td>\n",
              "      <td>-28</td>\n",
              "      <td>143</td>\n",
              "      <td>231</td>\n",
              "      <td>-336</td>\n",
              "      <td>-2380</td>\n",
              "      <td>624</td>\n",
              "      <td>169</td>\n",
              "      <td>837</td>\n",
              "      <td>-36</td>\n",
              "      <td>442</td>\n",
              "      <td>-17</td>\n",
              "      <td>782</td>\n",
              "      <td>295</td>\n",
              "      <td>11</td>\n",
              "      <td>76</td>\n",
              "      <td>-14</td>\n",
              "    </tr>\n",
              "    <tr>\n",
              "      <th>3</th>\n",
              "      <td>-76</td>\n",
              "      <td>-49</td>\n",
              "      <td>-307</td>\n",
              "      <td>309</td>\n",
              "      <td>-376</td>\n",
              "      <td>-650</td>\n",
              "      <td>33</td>\n",
              "      <td>-367</td>\n",
              "      <td>206</td>\n",
              "      <td>-215</td>\n",
              "      <td>19</td>\n",
              "      <td>-1135</td>\n",
              "      <td>-962</td>\n",
              "      <td>-232</td>\n",
              "      <td>208</td>\n",
              "      <td>432</td>\n",
              "      <td>84</td>\n",
              "      <td>-501</td>\n",
              "      <td>16692</td>\n",
              "      <td>183</td>\n",
              "      <td>378</td>\n",
              "      <td>-221</td>\n",
              "      <td>67</td>\n",
              "      <td>-203</td>\n",
              "      <td>238</td>\n",
              "      <td>-124</td>\n",
              "      <td>-161</td>\n",
              "      <td>36</td>\n",
              "      <td>-23</td>\n",
              "      <td>-80</td>\n",
              "      <td>-481</td>\n",
              "      <td>-65</td>\n",
              "      <td>-620</td>\n",
              "      <td>-269</td>\n",
              "      <td>-136</td>\n",
              "      <td>104</td>\n",
              "      <td>476</td>\n",
              "      <td>1474</td>\n",
              "      <td>5669</td>\n",
              "      <td>3272</td>\n",
              "      <td>...</td>\n",
              "      <td>387</td>\n",
              "      <td>-474</td>\n",
              "      <td>180</td>\n",
              "      <td>272</td>\n",
              "      <td>591</td>\n",
              "      <td>959</td>\n",
              "      <td>24292</td>\n",
              "      <td>17378</td>\n",
              "      <td>1808</td>\n",
              "      <td>363</td>\n",
              "      <td>325</td>\n",
              "      <td>6560</td>\n",
              "      <td>5023</td>\n",
              "      <td>804</td>\n",
              "      <td>1090</td>\n",
              "      <td>-258</td>\n",
              "      <td>9</td>\n",
              "      <td>220</td>\n",
              "      <td>-58</td>\n",
              "      <td>294</td>\n",
              "      <td>95</td>\n",
              "      <td>143</td>\n",
              "      <td>-25</td>\n",
              "      <td>464</td>\n",
              "      <td>513</td>\n",
              "      <td>238</td>\n",
              "      <td>720</td>\n",
              "      <td>-204</td>\n",
              "      <td>-1772</td>\n",
              "      <td>753</td>\n",
              "      <td>315</td>\n",
              "      <td>1199</td>\n",
              "      <td>33</td>\n",
              "      <td>168</td>\n",
              "      <td>52</td>\n",
              "      <td>1138</td>\n",
              "      <td>777</td>\n",
              "      <td>41</td>\n",
              "      <td>228</td>\n",
              "      <td>-41</td>\n",
              "    </tr>\n",
              "    <tr>\n",
              "      <th>4</th>\n",
              "      <td>-135</td>\n",
              "      <td>-114</td>\n",
              "      <td>265</td>\n",
              "      <td>12</td>\n",
              "      <td>-419</td>\n",
              "      <td>-585</td>\n",
              "      <td>158</td>\n",
              "      <td>-253</td>\n",
              "      <td>49</td>\n",
              "      <td>31</td>\n",
              "      <td>363</td>\n",
              "      <td>-934</td>\n",
              "      <td>-577</td>\n",
              "      <td>-214</td>\n",
              "      <td>142</td>\n",
              "      <td>271</td>\n",
              "      <td>-107</td>\n",
              "      <td>-101</td>\n",
              "      <td>15763</td>\n",
              "      <td>45</td>\n",
              "      <td>268</td>\n",
              "      <td>-27</td>\n",
              "      <td>43</td>\n",
              "      <td>-52</td>\n",
              "      <td>247</td>\n",
              "      <td>-116</td>\n",
              "      <td>-208</td>\n",
              "      <td>22</td>\n",
              "      <td>-10</td>\n",
              "      <td>-74</td>\n",
              "      <td>-240</td>\n",
              "      <td>-33</td>\n",
              "      <td>-560</td>\n",
              "      <td>-261</td>\n",
              "      <td>-366</td>\n",
              "      <td>-148</td>\n",
              "      <td>155</td>\n",
              "      <td>415</td>\n",
              "      <td>4850</td>\n",
              "      <td>2293</td>\n",
              "      <td>...</td>\n",
              "      <td>317</td>\n",
              "      <td>-336</td>\n",
              "      <td>325</td>\n",
              "      <td>149</td>\n",
              "      <td>173</td>\n",
              "      <td>431</td>\n",
              "      <td>17558</td>\n",
              "      <td>13818</td>\n",
              "      <td>576</td>\n",
              "      <td>455</td>\n",
              "      <td>594</td>\n",
              "      <td>8955</td>\n",
              "      <td>9567</td>\n",
              "      <td>367</td>\n",
              "      <td>1708</td>\n",
              "      <td>-357</td>\n",
              "      <td>45</td>\n",
              "      <td>430</td>\n",
              "      <td>-35</td>\n",
              "      <td>128</td>\n",
              "      <td>42</td>\n",
              "      <td>22</td>\n",
              "      <td>-131</td>\n",
              "      <td>342</td>\n",
              "      <td>142</td>\n",
              "      <td>277</td>\n",
              "      <td>307</td>\n",
              "      <td>-320</td>\n",
              "      <td>-2022</td>\n",
              "      <td>743</td>\n",
              "      <td>240</td>\n",
              "      <td>835</td>\n",
              "      <td>218</td>\n",
              "      <td>174</td>\n",
              "      <td>-110</td>\n",
              "      <td>627</td>\n",
              "      <td>170</td>\n",
              "      <td>-50</td>\n",
              "      <td>126</td>\n",
              "      <td>-91</td>\n",
              "    </tr>\n",
              "    <tr>\n",
              "      <th>5</th>\n",
              "      <td>-106</td>\n",
              "      <td>-125</td>\n",
              "      <td>-76</td>\n",
              "      <td>168</td>\n",
              "      <td>-230</td>\n",
              "      <td>-284</td>\n",
              "      <td>4</td>\n",
              "      <td>-122</td>\n",
              "      <td>70</td>\n",
              "      <td>252</td>\n",
              "      <td>155</td>\n",
              "      <td>-471</td>\n",
              "      <td>-490</td>\n",
              "      <td>-184</td>\n",
              "      <td>32</td>\n",
              "      <td>213</td>\n",
              "      <td>1</td>\n",
              "      <td>-260</td>\n",
              "      <td>18128</td>\n",
              "      <td>-28</td>\n",
              "      <td>118</td>\n",
              "      <td>-153</td>\n",
              "      <td>-8</td>\n",
              "      <td>-111</td>\n",
              "      <td>44</td>\n",
              "      <td>-88</td>\n",
              "      <td>-102</td>\n",
              "      <td>32</td>\n",
              "      <td>5</td>\n",
              "      <td>-18</td>\n",
              "      <td>-228</td>\n",
              "      <td>53</td>\n",
              "      <td>-348</td>\n",
              "      <td>-169</td>\n",
              "      <td>-156</td>\n",
              "      <td>-55</td>\n",
              "      <td>122</td>\n",
              "      <td>483</td>\n",
              "      <td>1284</td>\n",
              "      <td>2731</td>\n",
              "      <td>...</td>\n",
              "      <td>162</td>\n",
              "      <td>-56</td>\n",
              "      <td>279</td>\n",
              "      <td>183</td>\n",
              "      <td>259</td>\n",
              "      <td>605</td>\n",
              "      <td>18530</td>\n",
              "      <td>15619</td>\n",
              "      <td>65</td>\n",
              "      <td>122</td>\n",
              "      <td>126</td>\n",
              "      <td>8443</td>\n",
              "      <td>8512</td>\n",
              "      <td>182</td>\n",
              "      <td>1503</td>\n",
              "      <td>-78</td>\n",
              "      <td>29</td>\n",
              "      <td>159</td>\n",
              "      <td>18</td>\n",
              "      <td>71</td>\n",
              "      <td>42</td>\n",
              "      <td>44</td>\n",
              "      <td>-33</td>\n",
              "      <td>159</td>\n",
              "      <td>71</td>\n",
              "      <td>134</td>\n",
              "      <td>178</td>\n",
              "      <td>-182</td>\n",
              "      <td>-179</td>\n",
              "      <td>626</td>\n",
              "      <td>156</td>\n",
              "      <td>649</td>\n",
              "      <td>57</td>\n",
              "      <td>504</td>\n",
              "      <td>-26</td>\n",
              "      <td>250</td>\n",
              "      <td>314</td>\n",
              "      <td>14</td>\n",
              "      <td>56</td>\n",
              "      <td>-25</td>\n",
              "    </tr>\n",
              "  </tbody>\n",
              "</table>\n",
              "<p>5 rows × 7129 columns</p>\n",
              "</div>"
            ],
            "text/plain": [
              "Gene Accession Number AFFX-BioB-5_at AFFX-BioB-M_at  ... M71243_f_at Z78285_f_at\n",
              "1                               -214           -153  ...         191         -37\n",
              "2                               -139            -73  ...          76         -14\n",
              "3                                -76            -49  ...         228         -41\n",
              "4                               -135           -114  ...         126         -91\n",
              "5                               -106           -125  ...          56         -25\n",
              "\n",
              "[5 rows x 7129 columns]"
            ]
          },
          "metadata": {
            "tags": []
          },
          "execution_count": 24
        }
      ]
    },
    {
      "cell_type": "markdown",
      "metadata": {
        "id": "ezVI-NfQOJ9u"
      },
      "source": [
        "**Agora vamos dividir os rótulos de destino em alvos de treinamento e teste.**"
      ]
    },
    {
      "cell_type": "code",
      "metadata": {
        "id": "l7GNhpNsOh3Y"
      },
      "source": [
        "y_train = y['cancer'][:38]\n",
        "y_test = y['cancer'][38:]"
      ],
      "execution_count": null,
      "outputs": []
    },
    {
      "cell_type": "markdown",
      "metadata": {
        "id": "OwjFt_VqOllp"
      },
      "source": [
        "**Normalização dos dados (Características)**"
      ]
    },
    {
      "cell_type": "markdown",
      "metadata": {
        "id": "2WnK0RMdOu2m"
      },
      "source": [
        "Observe que o conjunto de teste deve usar uma escala idêntica ao conjunto de treinamento."
      ]
    },
    {
      "cell_type": "code",
      "metadata": {
        "id": "b1_jsycJO2Th"
      },
      "source": [
        "scaler = StandardScaler()\n",
        "X_train_scaled = scaler.fit_transform(X_train)\n",
        "X_test_scaled = scaler.transform(X_test)"
      ],
      "execution_count": null,
      "outputs": []
    },
    {
      "cell_type": "code",
      "metadata": {
        "colab": {
          "base_uri": "https://localhost:8080/",
          "height": 424
        },
        "id": "koWDCrgnO5UI",
        "outputId": "f2cc466c-a86a-4a24-93fb-2f0204d5d396"
      },
      "source": [
        "fig, ax = plt.subplots(ncols=2, figsize=(15,5))\n",
        "sns.distplot(np.concatenate(X_train.values), ax=ax[0]).set_title('Original Data')\n",
        "sns.distplot(np.concatenate(X_train_scaled), ax=ax[1]).set_title('Scaled Data')\n",
        "plt.tight_layout\n",
        "plt.show()"
      ],
      "execution_count": null,
      "outputs": [
        {
          "output_type": "stream",
          "text": [
            "/usr/local/lib/python3.7/dist-packages/seaborn/distributions.py:2557: FutureWarning: `distplot` is a deprecated function and will be removed in a future version. Please adapt your code to use either `displot` (a figure-level function with similar flexibility) or `histplot` (an axes-level function for histograms).\n",
            "  warnings.warn(msg, FutureWarning)\n",
            "/usr/local/lib/python3.7/dist-packages/seaborn/distributions.py:2557: FutureWarning: `distplot` is a deprecated function and will be removed in a future version. Please adapt your code to use either `displot` (a figure-level function with similar flexibility) or `histplot` (an axes-level function for histograms).\n",
            "  warnings.warn(msg, FutureWarning)\n"
          ],
          "name": "stderr"
        },
        {
          "output_type": "display_data",
          "data": {
            "image/png": "[encoded data removed]",
            "text/plain": [
              "<Figure size 1080x360 with 2 Axes>"
            ]
          },
          "metadata": {
            "tags": [],
            "needs_background": "light"
          }
        }
      ]
    },
    {
      "cell_type": "markdown",
      "metadata": {
        "id": "5sGl9R5oO_qQ"
      },
      "source": [
        "**Redução da Dimensionalidade com PCA (Principal Compoenent Analysis)**"
      ]
    },
    {
      "cell_type": "markdown",
      "metadata": {
        "id": "lF9aodaSPQlF"
      },
      "source": [
        "Precisamos aplicar o mesmo PCA em conjuntos de treinamento e teste."
      ]
    },
    {
      "cell_type": "code",
      "metadata": {
        "colab": {
          "base_uri": "https://localhost:8080/"
        },
        "id": "B0EX7rxsPWje",
        "outputId": "4feb7810-78a6-419c-d8b1-d45546793a0e"
      },
      "source": [
        "pca = PCA(n_components = 0.95)\n",
        "X_train_pca = pca.fit_transform(X_train_scaled)\n",
        "X_test_pca = pca.transform(X_test_scaled)\n",
        "print(X_train_pca.shape)\n",
        "print(X_test_pca.shape)"
      ],
      "execution_count": null,
      "outputs": [
        {
          "output_type": "stream",
          "text": [
            "(38, 32)\n",
            "(34, 32)\n"
          ],
          "name": "stdout"
        }
      ]
    },
    {
      "cell_type": "markdown",
      "metadata": {
        "id": "d_YU1Uf3PdQ-"
      },
      "source": [
        "95% da variância é explicada por 32 componentes principais. Não podemos plotar algo em 32 dimensões, então vamos ver como o PCA se parece quando escolhemos os três componentes principais."
      ]
    },
    {
      "cell_type": "code",
      "metadata": {
        "colab": {
          "base_uri": "https://localhost:8080/",
          "height": 319
        },
        "id": "Bd6oydf_PlBZ",
        "outputId": "b7437112-60d1-43b6-b07a-2972ddb6294a"
      },
      "source": [
        "pca3 = PCA(n_components = 3).fit_transform(X_train_scaled)\n",
        "colors = np.where(y_train==0, 'red', 'blue')\n",
        "plt.clf()\n",
        "fig = plt.figure(1, figsize=(10,6 ))\n",
        "ax = Axes3D(fig, elev=-150, azim=110,)\n",
        "ax.scatter(pca3[:, 0], pca3[:, 1], pca3[:, 2], c=colors, cmap=plt.cm.Paired,linewidths=10)\n",
        "ax.set_title(\"First three PCA directions\")\n",
        "ax.set_xlabel(\"PC1\")\n",
        "ax.w_xaxis.set_ticklabels([])\n",
        "ax.set_ylabel(\"PC2\")\n",
        "ax.w_yaxis.set_ticklabels([])\n",
        "ax.set_zlabel(\"PC3\")\n",
        "ax.w_zaxis.set_ticklabels([])\n",
        "plt.show()"
      ],
      "execution_count": null,
      "outputs": [
        {
          "output_type": "display_data",
          "data": {
            "image/png": "[encoded data removed]",
            "text/plain": [
              "<Figure size 432x288 with 1 Axes>"
            ]
          },
          "metadata": {
            "tags": [],
            "needs_background": "light"
          }
        }
      ]
    },
    {
      "cell_type": "markdown",
      "metadata": {
        "id": "rgxKrIsSPo_F"
      },
      "source": [
        "**A Rede Neural Artificial (RNA)**"
      ]
    },
    {
      "cell_type": "code",
      "metadata": {
        "id": "e95-CXMNPvNN"
      },
      "source": [
        "NN_model = keras.Sequential([\n",
        "    layers.Dense(32, activation='relu', input_shape=X_train_pca[1].shape),\n",
        "    layers.Dense(16, activation='relu'),\n",
        "    layers.Dense(1, activation='sigmoid')\n",
        "])"
      ],
      "execution_count": null,
      "outputs": []
    },
    {
      "cell_type": "code",
      "metadata": {
        "id": "z2WgVXrXPyhf"
      },
      "source": [
        "NN_model.compile(\n",
        "    loss='binary_crossentropy',\n",
        "    optimizer='adam',\n",
        "    metrics=['binary_accuracy']\n",
        ")"
      ],
      "execution_count": null,
      "outputs": []
    },
    {
      "cell_type": "code",
      "metadata": {
        "id": "wDvL_ISxP1tg"
      },
      "source": [
        "early_stopping = keras.callbacks.EarlyStopping(\n",
        "    patience=5,\n",
        "    min_delta=0.005,\n",
        "    restore_best_weights=True,\n",
        ")"
      ],
      "execution_count": null,
      "outputs": []
    },
    {
      "cell_type": "code",
      "metadata": {
        "colab": {
          "base_uri": "https://localhost:8080/"
        },
        "id": "iXUt6C67P5dh",
        "outputId": "f91d0387-870d-480a-f8ad-869936149a9e"
      },
      "source": [
        "train_history = NN_model.fit(\n",
        "    X_train_pca, y_train,\n",
        "    validation_data=(X_test_pca, y_test),\n",
        "    batch_size = 8,\n",
        "    epochs = 50,\n",
        "    callbacks=[early_stopping]\n",
        ")"
      ],
      "execution_count": null,
      "outputs": [
        {
          "output_type": "stream",
          "text": [
            "Epoch 1/50\n",
            "5/5 [==============================] - 0s 17ms/step - loss: 0.0182 - binary_accuracy: 1.0000 - val_loss: 0.5695 - val_binary_accuracy: 0.8529\n",
            "Epoch 2/50\n",
            "5/5 [==============================] - 0s 10ms/step - loss: 0.0150 - binary_accuracy: 1.0000 - val_loss: 0.5688 - val_binary_accuracy: 0.8529\n",
            "Epoch 3/50\n",
            "5/5 [==============================] - 0s 8ms/step - loss: 0.0130 - binary_accuracy: 1.0000 - val_loss: 0.5687 - val_binary_accuracy: 0.8529\n",
            "Epoch 4/50\n",
            "5/5 [==============================] - 0s 11ms/step - loss: 0.0099 - binary_accuracy: 1.0000 - val_loss: 0.5686 - val_binary_accuracy: 0.8529\n",
            "Epoch 5/50\n",
            "5/5 [==============================] - 0s 9ms/step - loss: 0.0084 - binary_accuracy: 1.0000 - val_loss: 0.5687 - val_binary_accuracy: 0.8529\n",
            "Epoch 6/50\n",
            "5/5 [==============================] - 0s 13ms/step - loss: 0.0076 - binary_accuracy: 1.0000 - val_loss: 0.5688 - val_binary_accuracy: 0.8529\n"
          ],
          "name": "stdout"
        }
      ]
    },
    {
      "cell_type": "code",
      "metadata": {
        "colab": {
          "base_uri": "https://localhost:8080/"
        },
        "id": "IYTK8CwvQmQn",
        "outputId": "7220e269-09c6-4c32-c2ff-c4d98f197f22"
      },
      "source": [
        "pred = NN_model.predict_classes(X_test_pca)\n",
        "print('Neural Network accuracy: ', round(accuracy_score(y_test, pred), 3))"
      ],
      "execution_count": null,
      "outputs": [
        {
          "output_type": "stream",
          "text": [
            "/usr/local/lib/python3.7/dist-packages/tensorflow/python/keras/engine/sequential.py:455: UserWarning: `model.predict_classes()` is deprecated and will be removed after 2021-01-01. Please use instead:* `np.argmax(model.predict(x), axis=-1)`,   if your model does multi-class classification   (e.g. if it uses a `softmax` last-layer activation).* `(model.predict(x) > 0.5).astype(\"int32\")`,   if your model does binary classification   (e.g. if it uses a `sigmoid` last-layer activation).\n",
            "  warnings.warn('`model.predict_classes()` is deprecated and '\n"
          ],
          "name": "stderr"
        },
        {
          "output_type": "stream",
          "text": [
            "Neural Network accuracy:  0.853\n"
          ],
          "name": "stdout"
        }
      ]
    },
    {
      "cell_type": "code",
      "metadata": {
        "colab": {
          "base_uri": "https://localhost:8080/",
          "height": 295
        },
        "id": "H6Ix8QhaQu3b",
        "outputId": "93f2cc5f-9871-4f8e-f6cc-1e8ddf22cfb3"
      },
      "source": [
        "cm_nn = confusion_matrix(y_test, pred)\n",
        "\n",
        "ax = plt.subplot()\n",
        "sns.heatmap(cm_nn, annot=True, ax = ax, fmt='g', cmap='Greens') \n",
        "\n",
        "# Labels, title and ticks\n",
        "ax.set_xlabel('Predicted labels')\n",
        "ax.set_ylabel('True labels') \n",
        "ax.set_title('Neural Network Confusion Matrix') \n",
        "ax.xaxis.set_ticklabels(labels) \n",
        "ax.yaxis.set_ticklabels(labels, rotation=360);"
      ],
      "execution_count": null,
      "outputs": [
        {
          "output_type": "display_data",
          "data": {
            "image/png": "[encoded data removed]",
            "text/plain": [
              "<Figure size 432x288 with 2 Axes>"
            ]
          },
          "metadata": {
            "tags": [],
            "needs_background": "light"
          }
        }
      ]
    }
  ]
}